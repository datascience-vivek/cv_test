{
  "nbformat": 4,
  "nbformat_minor": 0,
  "metadata": {
    "colab": {
      "name": "CV_Test.ipynb",
      "provenance": [],
      "collapsed_sections": [],
      "mount_file_id": "1BTvpo92pQm35KK9Kiwo4tm8wzQuZ-087",
      "authorship_tag": "ABX9TyPbKde68c988gzN6Fy6CxFl",
      "include_colab_link": true
    },
    "kernelspec": {
      "name": "python3",
      "display_name": "Python 3"
    },
    "language_info": {
      "name": "python"
    }
  },
  "cells": [
    {
      "cell_type": "markdown",
      "metadata": {
        "id": "view-in-github",
        "colab_type": "text"
      },
      "source": [
        "<a href=\"https://colab.research.google.com/github/datascience-vivek/cv_test/blob/main/CV_Test.ipynb\" target=\"_parent\"><img src=\"https://colab.research.google.com/assets/colab-badge.svg\" alt=\"Open In Colab\"/></a>"
      ]
    },
    {
      "cell_type": "code",
      "execution_count": 1,
      "metadata": {
        "id": "QuhfDwLciGAC"
      },
      "outputs": [],
      "source": [
        "import pandas as pd\n",
        "import numpy as np\n",
        "import matplotlib.pyplot as plt\n",
        "import seaborn as sns"
      ]
    },
    {
      "cell_type": "code",
      "source": [
        "from google.colab import drive\n",
        "drive.mount('/content/drive')"
      ],
      "metadata": {
        "id": "rAB_MluJi-q9",
        "colab": {
          "base_uri": "https://localhost:8080/"
        },
        "outputId": "1a13974a-a1a6-4a3c-8638-cc33d4e0ea60"
      },
      "execution_count": 2,
      "outputs": [
        {
          "output_type": "stream",
          "name": "stdout",
          "text": [
            "Drive already mounted at /content/drive; to attempt to forcibly remount, call drive.mount(\"/content/drive\", force_remount=True).\n"
          ]
        }
      ]
    },
    {
      "cell_type": "code",
      "source": [
        "df = pd.read_csv('/content/drive/MyDrive/ML Class/Advertising.csv', index_col=[0])\n",
        "df"
      ],
      "metadata": {
        "id": "4lLDqkxjjEwr",
        "colab": {
          "base_uri": "https://localhost:8080/",
          "height": 424
        },
        "outputId": "36d547e8-1284-4a16-d358-614599ccae1b"
      },
      "execution_count": 3,
      "outputs": [
        {
          "output_type": "execute_result",
          "data": {
            "text/plain": [
              "        TV  Radio  Newspaper  Sales\n",
              "1    230.1   37.8       69.2   22.1\n",
              "2     44.5   39.3       45.1   10.4\n",
              "3     17.2   45.9       69.3    9.3\n",
              "4    151.5   41.3       58.5   18.5\n",
              "5    180.8   10.8       58.4   12.9\n",
              "..     ...    ...        ...    ...\n",
              "196   38.2    3.7       13.8    7.6\n",
              "197   94.2    4.9        8.1    9.7\n",
              "198  177.0    9.3        6.4   12.8\n",
              "199  283.6   42.0       66.2   25.5\n",
              "200  232.1    8.6        8.7   13.4\n",
              "\n",
              "[200 rows x 4 columns]"
            ],
            "text/html": [
              "\n",
              "  <div id=\"df-1b326740-d371-4c27-9e53-a7ee5c3b40aa\">\n",
              "    <div class=\"colab-df-container\">\n",
              "      <div>\n",
              "<style scoped>\n",
              "    .dataframe tbody tr th:only-of-type {\n",
              "        vertical-align: middle;\n",
              "    }\n",
              "\n",
              "    .dataframe tbody tr th {\n",
              "        vertical-align: top;\n",
              "    }\n",
              "\n",
              "    .dataframe thead th {\n",
              "        text-align: right;\n",
              "    }\n",
              "</style>\n",
              "<table border=\"1\" class=\"dataframe\">\n",
              "  <thead>\n",
              "    <tr style=\"text-align: right;\">\n",
              "      <th></th>\n",
              "      <th>TV</th>\n",
              "      <th>Radio</th>\n",
              "      <th>Newspaper</th>\n",
              "      <th>Sales</th>\n",
              "    </tr>\n",
              "  </thead>\n",
              "  <tbody>\n",
              "    <tr>\n",
              "      <th>1</th>\n",
              "      <td>230.1</td>\n",
              "      <td>37.8</td>\n",
              "      <td>69.2</td>\n",
              "      <td>22.1</td>\n",
              "    </tr>\n",
              "    <tr>\n",
              "      <th>2</th>\n",
              "      <td>44.5</td>\n",
              "      <td>39.3</td>\n",
              "      <td>45.1</td>\n",
              "      <td>10.4</td>\n",
              "    </tr>\n",
              "    <tr>\n",
              "      <th>3</th>\n",
              "      <td>17.2</td>\n",
              "      <td>45.9</td>\n",
              "      <td>69.3</td>\n",
              "      <td>9.3</td>\n",
              "    </tr>\n",
              "    <tr>\n",
              "      <th>4</th>\n",
              "      <td>151.5</td>\n",
              "      <td>41.3</td>\n",
              "      <td>58.5</td>\n",
              "      <td>18.5</td>\n",
              "    </tr>\n",
              "    <tr>\n",
              "      <th>5</th>\n",
              "      <td>180.8</td>\n",
              "      <td>10.8</td>\n",
              "      <td>58.4</td>\n",
              "      <td>12.9</td>\n",
              "    </tr>\n",
              "    <tr>\n",
              "      <th>...</th>\n",
              "      <td>...</td>\n",
              "      <td>...</td>\n",
              "      <td>...</td>\n",
              "      <td>...</td>\n",
              "    </tr>\n",
              "    <tr>\n",
              "      <th>196</th>\n",
              "      <td>38.2</td>\n",
              "      <td>3.7</td>\n",
              "      <td>13.8</td>\n",
              "      <td>7.6</td>\n",
              "    </tr>\n",
              "    <tr>\n",
              "      <th>197</th>\n",
              "      <td>94.2</td>\n",
              "      <td>4.9</td>\n",
              "      <td>8.1</td>\n",
              "      <td>9.7</td>\n",
              "    </tr>\n",
              "    <tr>\n",
              "      <th>198</th>\n",
              "      <td>177.0</td>\n",
              "      <td>9.3</td>\n",
              "      <td>6.4</td>\n",
              "      <td>12.8</td>\n",
              "    </tr>\n",
              "    <tr>\n",
              "      <th>199</th>\n",
              "      <td>283.6</td>\n",
              "      <td>42.0</td>\n",
              "      <td>66.2</td>\n",
              "      <td>25.5</td>\n",
              "    </tr>\n",
              "    <tr>\n",
              "      <th>200</th>\n",
              "      <td>232.1</td>\n",
              "      <td>8.6</td>\n",
              "      <td>8.7</td>\n",
              "      <td>13.4</td>\n",
              "    </tr>\n",
              "  </tbody>\n",
              "</table>\n",
              "<p>200 rows × 4 columns</p>\n",
              "</div>\n",
              "      <button class=\"colab-df-convert\" onclick=\"convertToInteractive('df-1b326740-d371-4c27-9e53-a7ee5c3b40aa')\"\n",
              "              title=\"Convert this dataframe to an interactive table.\"\n",
              "              style=\"display:none;\">\n",
              "        \n",
              "  <svg xmlns=\"http://www.w3.org/2000/svg\" height=\"24px\"viewBox=\"0 0 24 24\"\n",
              "       width=\"24px\">\n",
              "    <path d=\"M0 0h24v24H0V0z\" fill=\"none\"/>\n",
              "    <path d=\"M18.56 5.44l.94 2.06.94-2.06 2.06-.94-2.06-.94-.94-2.06-.94 2.06-2.06.94zm-11 1L8.5 8.5l.94-2.06 2.06-.94-2.06-.94L8.5 2.5l-.94 2.06-2.06.94zm10 10l.94 2.06.94-2.06 2.06-.94-2.06-.94-.94-2.06-.94 2.06-2.06.94z\"/><path d=\"M17.41 7.96l-1.37-1.37c-.4-.4-.92-.59-1.43-.59-.52 0-1.04.2-1.43.59L10.3 9.45l-7.72 7.72c-.78.78-.78 2.05 0 2.83L4 21.41c.39.39.9.59 1.41.59.51 0 1.02-.2 1.41-.59l7.78-7.78 2.81-2.81c.8-.78.8-2.07 0-2.86zM5.41 20L4 18.59l7.72-7.72 1.47 1.35L5.41 20z\"/>\n",
              "  </svg>\n",
              "      </button>\n",
              "      \n",
              "  <style>\n",
              "    .colab-df-container {\n",
              "      display:flex;\n",
              "      flex-wrap:wrap;\n",
              "      gap: 12px;\n",
              "    }\n",
              "\n",
              "    .colab-df-convert {\n",
              "      background-color: #E8F0FE;\n",
              "      border: none;\n",
              "      border-radius: 50%;\n",
              "      cursor: pointer;\n",
              "      display: none;\n",
              "      fill: #1967D2;\n",
              "      height: 32px;\n",
              "      padding: 0 0 0 0;\n",
              "      width: 32px;\n",
              "    }\n",
              "\n",
              "    .colab-df-convert:hover {\n",
              "      background-color: #E2EBFA;\n",
              "      box-shadow: 0px 1px 2px rgba(60, 64, 67, 0.3), 0px 1px 3px 1px rgba(60, 64, 67, 0.15);\n",
              "      fill: #174EA6;\n",
              "    }\n",
              "\n",
              "    [theme=dark] .colab-df-convert {\n",
              "      background-color: #3B4455;\n",
              "      fill: #D2E3FC;\n",
              "    }\n",
              "\n",
              "    [theme=dark] .colab-df-convert:hover {\n",
              "      background-color: #434B5C;\n",
              "      box-shadow: 0px 1px 3px 1px rgba(0, 0, 0, 0.15);\n",
              "      filter: drop-shadow(0px 1px 2px rgba(0, 0, 0, 0.3));\n",
              "      fill: #FFFFFF;\n",
              "    }\n",
              "  </style>\n",
              "\n",
              "      <script>\n",
              "        const buttonEl =\n",
              "          document.querySelector('#df-1b326740-d371-4c27-9e53-a7ee5c3b40aa button.colab-df-convert');\n",
              "        buttonEl.style.display =\n",
              "          google.colab.kernel.accessAllowed ? 'block' : 'none';\n",
              "\n",
              "        async function convertToInteractive(key) {\n",
              "          const element = document.querySelector('#df-1b326740-d371-4c27-9e53-a7ee5c3b40aa');\n",
              "          const dataTable =\n",
              "            await google.colab.kernel.invokeFunction('convertToInteractive',\n",
              "                                                     [key], {});\n",
              "          if (!dataTable) return;\n",
              "\n",
              "          const docLinkHtml = 'Like what you see? Visit the ' +\n",
              "            '<a target=\"_blank\" href=https://colab.research.google.com/notebooks/data_table.ipynb>data table notebook</a>'\n",
              "            + ' to learn more about interactive tables.';\n",
              "          element.innerHTML = '';\n",
              "          dataTable['output_type'] = 'display_data';\n",
              "          await google.colab.output.renderOutput(dataTable, element);\n",
              "          const docLink = document.createElement('div');\n",
              "          docLink.innerHTML = docLinkHtml;\n",
              "          element.appendChild(docLink);\n",
              "        }\n",
              "      </script>\n",
              "    </div>\n",
              "  </div>\n",
              "  "
            ]
          },
          "metadata": {},
          "execution_count": 3
        }
      ]
    },
    {
      "cell_type": "code",
      "source": [
        "x = df.drop(['Sales'], axis= 1)\n",
        "x"
      ],
      "metadata": {
        "id": "yYlP4OlAjOyX",
        "colab": {
          "base_uri": "https://localhost:8080/",
          "height": 424
        },
        "outputId": "d4746716-c253-44d6-e48c-2a61fcffa6f7"
      },
      "execution_count": 4,
      "outputs": [
        {
          "output_type": "execute_result",
          "data": {
            "text/plain": [
              "        TV  Radio  Newspaper\n",
              "1    230.1   37.8       69.2\n",
              "2     44.5   39.3       45.1\n",
              "3     17.2   45.9       69.3\n",
              "4    151.5   41.3       58.5\n",
              "5    180.8   10.8       58.4\n",
              "..     ...    ...        ...\n",
              "196   38.2    3.7       13.8\n",
              "197   94.2    4.9        8.1\n",
              "198  177.0    9.3        6.4\n",
              "199  283.6   42.0       66.2\n",
              "200  232.1    8.6        8.7\n",
              "\n",
              "[200 rows x 3 columns]"
            ],
            "text/html": [
              "\n",
              "  <div id=\"df-cbd8f967-99ff-4497-9d97-ee2e9f01eb21\">\n",
              "    <div class=\"colab-df-container\">\n",
              "      <div>\n",
              "<style scoped>\n",
              "    .dataframe tbody tr th:only-of-type {\n",
              "        vertical-align: middle;\n",
              "    }\n",
              "\n",
              "    .dataframe tbody tr th {\n",
              "        vertical-align: top;\n",
              "    }\n",
              "\n",
              "    .dataframe thead th {\n",
              "        text-align: right;\n",
              "    }\n",
              "</style>\n",
              "<table border=\"1\" class=\"dataframe\">\n",
              "  <thead>\n",
              "    <tr style=\"text-align: right;\">\n",
              "      <th></th>\n",
              "      <th>TV</th>\n",
              "      <th>Radio</th>\n",
              "      <th>Newspaper</th>\n",
              "    </tr>\n",
              "  </thead>\n",
              "  <tbody>\n",
              "    <tr>\n",
              "      <th>1</th>\n",
              "      <td>230.1</td>\n",
              "      <td>37.8</td>\n",
              "      <td>69.2</td>\n",
              "    </tr>\n",
              "    <tr>\n",
              "      <th>2</th>\n",
              "      <td>44.5</td>\n",
              "      <td>39.3</td>\n",
              "      <td>45.1</td>\n",
              "    </tr>\n",
              "    <tr>\n",
              "      <th>3</th>\n",
              "      <td>17.2</td>\n",
              "      <td>45.9</td>\n",
              "      <td>69.3</td>\n",
              "    </tr>\n",
              "    <tr>\n",
              "      <th>4</th>\n",
              "      <td>151.5</td>\n",
              "      <td>41.3</td>\n",
              "      <td>58.5</td>\n",
              "    </tr>\n",
              "    <tr>\n",
              "      <th>5</th>\n",
              "      <td>180.8</td>\n",
              "      <td>10.8</td>\n",
              "      <td>58.4</td>\n",
              "    </tr>\n",
              "    <tr>\n",
              "      <th>...</th>\n",
              "      <td>...</td>\n",
              "      <td>...</td>\n",
              "      <td>...</td>\n",
              "    </tr>\n",
              "    <tr>\n",
              "      <th>196</th>\n",
              "      <td>38.2</td>\n",
              "      <td>3.7</td>\n",
              "      <td>13.8</td>\n",
              "    </tr>\n",
              "    <tr>\n",
              "      <th>197</th>\n",
              "      <td>94.2</td>\n",
              "      <td>4.9</td>\n",
              "      <td>8.1</td>\n",
              "    </tr>\n",
              "    <tr>\n",
              "      <th>198</th>\n",
              "      <td>177.0</td>\n",
              "      <td>9.3</td>\n",
              "      <td>6.4</td>\n",
              "    </tr>\n",
              "    <tr>\n",
              "      <th>199</th>\n",
              "      <td>283.6</td>\n",
              "      <td>42.0</td>\n",
              "      <td>66.2</td>\n",
              "    </tr>\n",
              "    <tr>\n",
              "      <th>200</th>\n",
              "      <td>232.1</td>\n",
              "      <td>8.6</td>\n",
              "      <td>8.7</td>\n",
              "    </tr>\n",
              "  </tbody>\n",
              "</table>\n",
              "<p>200 rows × 3 columns</p>\n",
              "</div>\n",
              "      <button class=\"colab-df-convert\" onclick=\"convertToInteractive('df-cbd8f967-99ff-4497-9d97-ee2e9f01eb21')\"\n",
              "              title=\"Convert this dataframe to an interactive table.\"\n",
              "              style=\"display:none;\">\n",
              "        \n",
              "  <svg xmlns=\"http://www.w3.org/2000/svg\" height=\"24px\"viewBox=\"0 0 24 24\"\n",
              "       width=\"24px\">\n",
              "    <path d=\"M0 0h24v24H0V0z\" fill=\"none\"/>\n",
              "    <path d=\"M18.56 5.44l.94 2.06.94-2.06 2.06-.94-2.06-.94-.94-2.06-.94 2.06-2.06.94zm-11 1L8.5 8.5l.94-2.06 2.06-.94-2.06-.94L8.5 2.5l-.94 2.06-2.06.94zm10 10l.94 2.06.94-2.06 2.06-.94-2.06-.94-.94-2.06-.94 2.06-2.06.94z\"/><path d=\"M17.41 7.96l-1.37-1.37c-.4-.4-.92-.59-1.43-.59-.52 0-1.04.2-1.43.59L10.3 9.45l-7.72 7.72c-.78.78-.78 2.05 0 2.83L4 21.41c.39.39.9.59 1.41.59.51 0 1.02-.2 1.41-.59l7.78-7.78 2.81-2.81c.8-.78.8-2.07 0-2.86zM5.41 20L4 18.59l7.72-7.72 1.47 1.35L5.41 20z\"/>\n",
              "  </svg>\n",
              "      </button>\n",
              "      \n",
              "  <style>\n",
              "    .colab-df-container {\n",
              "      display:flex;\n",
              "      flex-wrap:wrap;\n",
              "      gap: 12px;\n",
              "    }\n",
              "\n",
              "    .colab-df-convert {\n",
              "      background-color: #E8F0FE;\n",
              "      border: none;\n",
              "      border-radius: 50%;\n",
              "      cursor: pointer;\n",
              "      display: none;\n",
              "      fill: #1967D2;\n",
              "      height: 32px;\n",
              "      padding: 0 0 0 0;\n",
              "      width: 32px;\n",
              "    }\n",
              "\n",
              "    .colab-df-convert:hover {\n",
              "      background-color: #E2EBFA;\n",
              "      box-shadow: 0px 1px 2px rgba(60, 64, 67, 0.3), 0px 1px 3px 1px rgba(60, 64, 67, 0.15);\n",
              "      fill: #174EA6;\n",
              "    }\n",
              "\n",
              "    [theme=dark] .colab-df-convert {\n",
              "      background-color: #3B4455;\n",
              "      fill: #D2E3FC;\n",
              "    }\n",
              "\n",
              "    [theme=dark] .colab-df-convert:hover {\n",
              "      background-color: #434B5C;\n",
              "      box-shadow: 0px 1px 3px 1px rgba(0, 0, 0, 0.15);\n",
              "      filter: drop-shadow(0px 1px 2px rgba(0, 0, 0, 0.3));\n",
              "      fill: #FFFFFF;\n",
              "    }\n",
              "  </style>\n",
              "\n",
              "      <script>\n",
              "        const buttonEl =\n",
              "          document.querySelector('#df-cbd8f967-99ff-4497-9d97-ee2e9f01eb21 button.colab-df-convert');\n",
              "        buttonEl.style.display =\n",
              "          google.colab.kernel.accessAllowed ? 'block' : 'none';\n",
              "\n",
              "        async function convertToInteractive(key) {\n",
              "          const element = document.querySelector('#df-cbd8f967-99ff-4497-9d97-ee2e9f01eb21');\n",
              "          const dataTable =\n",
              "            await google.colab.kernel.invokeFunction('convertToInteractive',\n",
              "                                                     [key], {});\n",
              "          if (!dataTable) return;\n",
              "\n",
              "          const docLinkHtml = 'Like what you see? Visit the ' +\n",
              "            '<a target=\"_blank\" href=https://colab.research.google.com/notebooks/data_table.ipynb>data table notebook</a>'\n",
              "            + ' to learn more about interactive tables.';\n",
              "          element.innerHTML = '';\n",
              "          dataTable['output_type'] = 'display_data';\n",
              "          await google.colab.output.renderOutput(dataTable, element);\n",
              "          const docLink = document.createElement('div');\n",
              "          docLink.innerHTML = docLinkHtml;\n",
              "          element.appendChild(docLink);\n",
              "        }\n",
              "      </script>\n",
              "    </div>\n",
              "  </div>\n",
              "  "
            ]
          },
          "metadata": {},
          "execution_count": 4
        }
      ]
    },
    {
      "cell_type": "code",
      "source": [
        "y = df['Sales']\n",
        "y"
      ],
      "metadata": {
        "id": "JTW9L9k4l6pE",
        "colab": {
          "base_uri": "https://localhost:8080/"
        },
        "outputId": "73257638-3fa9-4e68-ede7-5fbdbeb6fec5"
      },
      "execution_count": 5,
      "outputs": [
        {
          "output_type": "execute_result",
          "data": {
            "text/plain": [
              "1      22.1\n",
              "2      10.4\n",
              "3       9.3\n",
              "4      18.5\n",
              "5      12.9\n",
              "       ... \n",
              "196     7.6\n",
              "197     9.7\n",
              "198    12.8\n",
              "199    25.5\n",
              "200    13.4\n",
              "Name: Sales, Length: 200, dtype: float64"
            ]
          },
          "metadata": {},
          "execution_count": 5
        }
      ]
    },
    {
      "cell_type": "code",
      "source": [
        "from sklearn.model_selection import train_test_split"
      ],
      "metadata": {
        "id": "TB-1lo_4mE8e"
      },
      "execution_count": 6,
      "outputs": []
    },
    {
      "cell_type": "code",
      "source": [
        "x_train, x_test, y_train, y_test, = train_test_split(x,y, test_size=0.3, random_state= 101)"
      ],
      "metadata": {
        "id": "WXKr9Es6mUKk"
      },
      "execution_count": 7,
      "outputs": []
    },
    {
      "cell_type": "code",
      "source": [
        "from sklearn.preprocessing import StandardScaler"
      ],
      "metadata": {
        "id": "xagTezf7mwFD"
      },
      "execution_count": 8,
      "outputs": []
    },
    {
      "cell_type": "code",
      "source": [
        "scaler = StandardScaler()"
      ],
      "metadata": {
        "id": "nTBSgKggnQyA"
      },
      "execution_count": 9,
      "outputs": []
    },
    {
      "cell_type": "code",
      "source": [
        "scaler.fit(x_train)"
      ],
      "metadata": {
        "id": "da2RaAH7nVeP",
        "colab": {
          "base_uri": "https://localhost:8080/"
        },
        "outputId": "7e42e7b0-37f2-4b7d-f196-874ec9004846"
      },
      "execution_count": 10,
      "outputs": [
        {
          "output_type": "execute_result",
          "data": {
            "text/plain": [
              "StandardScaler()"
            ]
          },
          "metadata": {},
          "execution_count": 10
        }
      ]
    },
    {
      "cell_type": "code",
      "source": [
        "scaler.fit(x_train)\n",
        "x_train = scaler.transform(x_train)\n",
        "x_test = scaler.transform(x_test)"
      ],
      "metadata": {
        "id": "wl2Oc5AVojXk"
      },
      "execution_count": 11,
      "outputs": []
    },
    {
      "cell_type": "code",
      "source": [
        "x_test = scaler.transform(x_test)"
      ],
      "metadata": {
        "id": "HREzwoqporkm",
        "colab": {
          "base_uri": "https://localhost:8080/"
        },
        "outputId": "5c6ad296-f511-4b28-98ef-19f1666e88d3"
      },
      "execution_count": 12,
      "outputs": [
        {
          "output_type": "stream",
          "name": "stderr",
          "text": [
            "/usr/local/lib/python3.7/dist-packages/sklearn/base.py:451: UserWarning: X does not have valid feature names, but StandardScaler was fitted with feature names\n",
            "  \"X does not have valid feature names, but\"\n"
          ]
        }
      ]
    },
    {
      "cell_type": "markdown",
      "source": [
        ""
      ],
      "metadata": {
        "id": "gntj6U67zyfz"
      }
    },
    {
      "cell_type": "code",
      "source": [
        "from sklearn.linear_model import Ridge"
      ],
      "metadata": {
        "id": "jTqm_7K2oyBx"
      },
      "execution_count": 13,
      "outputs": []
    },
    {
      "cell_type": "code",
      "source": [
        "model = Ridge(alpha=100)"
      ],
      "metadata": {
        "id": "hr5Jq6a9o63j"
      },
      "execution_count": 14,
      "outputs": []
    },
    {
      "cell_type": "code",
      "source": [
        "model.fit(x_train, y_train)"
      ],
      "metadata": {
        "id": "MjLwRzKopBw6",
        "colab": {
          "base_uri": "https://localhost:8080/"
        },
        "outputId": "9644caa4-550f-4a7c-be9c-be828761faea"
      },
      "execution_count": 15,
      "outputs": [
        {
          "output_type": "execute_result",
          "data": {
            "text/plain": [
              "Ridge(alpha=100)"
            ]
          },
          "metadata": {},
          "execution_count": 15
        }
      ]
    },
    {
      "cell_type": "code",
      "source": [
        "y_pred = model.predict(x_test)"
      ],
      "metadata": {
        "id": "0TQYOSBKpLoU"
      },
      "execution_count": 16,
      "outputs": []
    },
    {
      "cell_type": "code",
      "source": [
        "from sklearn.metrics import mean_squared_error"
      ],
      "metadata": {
        "id": "1cU0ZdsUpRa5"
      },
      "execution_count": 17,
      "outputs": []
    },
    {
      "cell_type": "code",
      "source": [
        "MSE= mean_squared_error(y_pred, y_test)\n",
        "MSE"
      ],
      "metadata": {
        "id": "a5bak_GZpX1N",
        "colab": {
          "base_uri": "https://localhost:8080/"
        },
        "outputId": "71dac972-3f4e-4d5c-9af9-b915f94dc10f"
      },
      "execution_count": 18,
      "outputs": [
        {
          "output_type": "execute_result",
          "data": {
            "text/plain": [
              "64.21922374548488"
            ]
          },
          "metadata": {},
          "execution_count": 18
        }
      ]
    },
    {
      "cell_type": "code",
      "source": [
        "model2 = Ridge(alpha=1)"
      ],
      "metadata": {
        "id": "54XveptCpixq"
      },
      "execution_count": 19,
      "outputs": []
    },
    {
      "cell_type": "code",
      "source": [
        "model2.fit(x_train, y_train)"
      ],
      "metadata": {
        "colab": {
          "base_uri": "https://localhost:8080/"
        },
        "id": "Pi-z-Nm7y1uL",
        "outputId": "297e4ca5-4328-4823-a6bd-9cbe93989bed"
      },
      "execution_count": 20,
      "outputs": [
        {
          "output_type": "execute_result",
          "data": {
            "text/plain": [
              "Ridge(alpha=1)"
            ]
          },
          "metadata": {},
          "execution_count": 20
        }
      ]
    },
    {
      "cell_type": "code",
      "source": [
        "ypred2 = model2.predict(x_test)"
      ],
      "metadata": {
        "id": "crVSuWQey56Q"
      },
      "execution_count": 21,
      "outputs": []
    },
    {
      "cell_type": "code",
      "source": [
        "MSE = mean_squared_error(ypred2, y_test)\n",
        "MSE"
      ],
      "metadata": {
        "colab": {
          "base_uri": "https://localhost:8080/"
        },
        "id": "Gy4thPwfzKYP",
        "outputId": "50617961-f47d-45b8-afa3-65c635504683"
      },
      "execution_count": 22,
      "outputs": [
        {
          "output_type": "execute_result",
          "data": {
            "text/plain": [
              "129.6990400216778"
            ]
          },
          "metadata": {},
          "execution_count": 22
        }
      ]
    },
    {
      "cell_type": "code",
      "source": [
        "x_train, x_other, y_train, y_other, = train_test_split(x,y, test_size=0.3, random_state= 101)"
      ],
      "metadata": {
        "id": "6XiUs3T1zSzI"
      },
      "execution_count": 23,
      "outputs": []
    },
    {
      "cell_type": "code",
      "source": [
        "#Test size = 0.5(50% of the 30% other data)\n",
        "x_eval, x_test, y_eval, y_test = train_test_split(x_other, y_other, test_size= 0.5, random_state=101)"
      ],
      "metadata": {
        "id": "cmumBExn0Fhf"
      },
      "execution_count": 24,
      "outputs": []
    },
    {
      "cell_type": "code",
      "source": [
        "len(df)"
      ],
      "metadata": {
        "colab": {
          "base_uri": "https://localhost:8080/"
        },
        "id": "ojdrGZea0_gD",
        "outputId": "7ef833d8-5ff5-4f2f-ebf4-a47c87192fb2"
      },
      "execution_count": 25,
      "outputs": [
        {
          "output_type": "execute_result",
          "data": {
            "text/plain": [
              "200"
            ]
          },
          "metadata": {},
          "execution_count": 25
        }
      ]
    },
    {
      "cell_type": "code",
      "source": [
        "len(x_train)"
      ],
      "metadata": {
        "colab": {
          "base_uri": "https://localhost:8080/"
        },
        "id": "PMonr-Qv6gQZ",
        "outputId": "26e9fff8-b527-458d-90c9-bdcdb9877a70"
      },
      "execution_count": 26,
      "outputs": [
        {
          "output_type": "execute_result",
          "data": {
            "text/plain": [
              "140"
            ]
          },
          "metadata": {},
          "execution_count": 26
        }
      ]
    },
    {
      "cell_type": "code",
      "source": [
        "len(x_other)"
      ],
      "metadata": {
        "colab": {
          "base_uri": "https://localhost:8080/"
        },
        "id": "n5L3hEh86ipS",
        "outputId": "567302e9-1224-4021-c606-653b150f9ac1"
      },
      "execution_count": 27,
      "outputs": [
        {
          "output_type": "execute_result",
          "data": {
            "text/plain": [
              "60"
            ]
          },
          "metadata": {},
          "execution_count": 27
        }
      ]
    },
    {
      "cell_type": "code",
      "source": [
        "len(x_eval)"
      ],
      "metadata": {
        "colab": {
          "base_uri": "https://localhost:8080/"
        },
        "id": "nsNCi7yg6mQt",
        "outputId": "97e448e5-8087-456d-8595-7684a85c7d85"
      },
      "execution_count": 28,
      "outputs": [
        {
          "output_type": "execute_result",
          "data": {
            "text/plain": [
              "30"
            ]
          },
          "metadata": {},
          "execution_count": 28
        }
      ]
    },
    {
      "cell_type": "code",
      "source": [
        "len(x_test)"
      ],
      "metadata": {
        "colab": {
          "base_uri": "https://localhost:8080/"
        },
        "id": "LsxYRezS6qAM",
        "outputId": "97cb243a-800d-413c-c6d1-7844c78e3e20"
      },
      "execution_count": 29,
      "outputs": [
        {
          "output_type": "execute_result",
          "data": {
            "text/plain": [
              "30"
            ]
          },
          "metadata": {},
          "execution_count": 29
        }
      ]
    },
    {
      "cell_type": "code",
      "source": [
        "x_train = scaler.transform(x_train)"
      ],
      "metadata": {
        "id": "NMwhv-Vr60za"
      },
      "execution_count": 30,
      "outputs": []
    },
    {
      "cell_type": "code",
      "source": [
        "x_test = scaler.transform(x_test)"
      ],
      "metadata": {
        "id": "H_Pd03zc7LIp"
      },
      "execution_count": 31,
      "outputs": []
    },
    {
      "cell_type": "code",
      "source": [
        "x_eval = scaler.transform(x_eval)#validation data"
      ],
      "metadata": {
        "id": "XacmnU5I7Wh5"
      },
      "execution_count": 32,
      "outputs": []
    },
    {
      "cell_type": "code",
      "source": [
        "model3= Ridge(alpha=100)"
      ],
      "metadata": {
        "id": "VmbXwZ6v7kqi"
      },
      "execution_count": 33,
      "outputs": []
    },
    {
      "cell_type": "code",
      "source": [
        "model3.fit(x_train, y_train)"
      ],
      "metadata": {
        "colab": {
          "base_uri": "https://localhost:8080/"
        },
        "id": "DvgxkR217yEF",
        "outputId": "68ea924f-1c46-4a35-e74d-8b62e97e7af1"
      },
      "execution_count": 34,
      "outputs": [
        {
          "output_type": "execute_result",
          "data": {
            "text/plain": [
              "Ridge(alpha=100)"
            ]
          },
          "metadata": {},
          "execution_count": 34
        }
      ]
    },
    {
      "cell_type": "code",
      "source": [
        "y_eval_pred = model3.predict(x_eval)\n",
        "y_eval_pred"
      ],
      "metadata": {
        "id": "NwP6HQN78OM-",
        "colab": {
          "base_uri": "https://localhost:8080/"
        },
        "outputId": "8368cdc0-0083-4b13-a516-b6bc823d78ca"
      },
      "execution_count": 35,
      "outputs": [
        {
          "output_type": "execute_result",
          "data": {
            "text/plain": [
              "array([16.0980788 , 10.8495293 ,  8.75095421, 14.83525505, 12.55896716,\n",
              "       12.8883864 , 11.58372535, 12.01609545, 16.18778637, 10.90016204,\n",
              "       11.32616781, 17.90771073, 14.09264772, 13.79206361, 13.71636726,\n",
              "        9.87999576, 15.34908128, 13.00876939, 13.43419788, 10.85075815,\n",
              "       14.75707677, 18.83377117, 17.30158479, 15.74187916, 16.49277745,\n",
              "       19.66643199, 17.6105132 , 10.07145317, 13.64670913, 17.42108555])"
            ]
          },
          "metadata": {},
          "execution_count": 35
        }
      ]
    },
    {
      "cell_type": "code",
      "source": [
        "MSE = mean_squared_error(y_eval_pred, y_eval)\n",
        "MSE"
      ],
      "metadata": {
        "colab": {
          "base_uri": "https://localhost:8080/"
        },
        "id": "zq3m4Jir8VFJ",
        "outputId": "bdcf9e16-546f-4d00-dca4-e8866786920a"
      },
      "execution_count": 36,
      "outputs": [
        {
          "output_type": "execute_result",
          "data": {
            "text/plain": [
              "7.320101458823871"
            ]
          },
          "metadata": {},
          "execution_count": 36
        }
      ]
    },
    {
      "cell_type": "code",
      "source": [
        "model4= Ridge(alpha=1)"
      ],
      "metadata": {
        "id": "IFnFVkxR8fS4"
      },
      "execution_count": 37,
      "outputs": []
    },
    {
      "cell_type": "code",
      "source": [
        "model4.fit(x_train, y_train)"
      ],
      "metadata": {
        "colab": {
          "base_uri": "https://localhost:8080/"
        },
        "id": "cf9XlzIz8mlh",
        "outputId": "5b0b8228-5762-48b1-ae87-b72a0319b7f6"
      },
      "execution_count": 38,
      "outputs": [
        {
          "output_type": "execute_result",
          "data": {
            "text/plain": [
              "Ridge(alpha=1)"
            ]
          },
          "metadata": {},
          "execution_count": 38
        }
      ]
    },
    {
      "cell_type": "code",
      "source": [
        "new_pred_eval = model4.predict(x_eval)"
      ],
      "metadata": {
        "id": "rrqvj2Pl824S"
      },
      "execution_count": 39,
      "outputs": []
    },
    {
      "cell_type": "code",
      "source": [
        "MSE = mean_squared_error(new_pred_eval, y_eval)\n",
        "MSE"
      ],
      "metadata": {
        "colab": {
          "base_uri": "https://localhost:8080/"
        },
        "id": "-DR24spy8-m5",
        "outputId": "b2b7f4f5-7883-43b8-81be-a1c9a0ab2233"
      },
      "execution_count": 40,
      "outputs": [
        {
          "output_type": "execute_result",
          "data": {
            "text/plain": [
              "2.383783075056986"
            ]
          },
          "metadata": {},
          "execution_count": 40
        }
      ]
    },
    {
      "cell_type": "code",
      "source": [
        "RMSE= np.sqrt(MSE)\n",
        "RMSE"
      ],
      "metadata": {
        "colab": {
          "base_uri": "https://localhost:8080/"
        },
        "id": "4lvylYKA9FoC",
        "outputId": "724abd47-9482-4191-aa9e-9cfad7f55e3f"
      },
      "execution_count": 41,
      "outputs": [
        {
          "output_type": "execute_result",
          "data": {
            "text/plain": [
              "1.5439504768796783"
            ]
          },
          "metadata": {},
          "execution_count": 41
        }
      ]
    },
    {
      "cell_type": "code",
      "source": [
        "y_final_test_pred = model4.predict(x_test)##Final evaluation on the test "
      ],
      "metadata": {
        "id": "aGvf9wYW9Zsh"
      },
      "execution_count": 42,
      "outputs": []
    },
    {
      "cell_type": "code",
      "source": [
        "MSE = mean_squared_error(y_test,y_final_test_pred )##For training testing and validation case\n",
        "MSE"
      ],
      "metadata": {
        "colab": {
          "base_uri": "https://localhost:8080/"
        },
        "id": "Eeegz7O291s7",
        "outputId": "b4bfdd2e-a923-4972-b6f3-e32a973b2bba"
      },
      "execution_count": 43,
      "outputs": [
        {
          "output_type": "execute_result",
          "data": {
            "text/plain": [
              "2.2542600838005176"
            ]
          },
          "metadata": {},
          "execution_count": 43
        }
      ]
    },
    {
      "cell_type": "code",
      "source": [
        "RMSE= np.sqrt(MSE)\n",
        "RMSE"
      ],
      "metadata": {
        "colab": {
          "base_uri": "https://localhost:8080/"
        },
        "id": "6-EMJ4x9-Dys",
        "outputId": "b4a18dd6-fb2c-4596-c383-5aca144f8e98"
      },
      "execution_count": 44,
      "outputs": [
        {
          "output_type": "execute_result",
          "data": {
            "text/plain": [
              "1.5014193564093004"
            ]
          },
          "metadata": {},
          "execution_count": 44
        }
      ]
    },
    {
      "cell_type": "code",
      "source": [
        "#Cross_VAL_Score(K-fold CV)"
      ],
      "metadata": {
        "id": "WT24QyZY-GVS"
      },
      "execution_count": 45,
      "outputs": []
    },
    {
      "cell_type": "code",
      "source": [
        "from sklearn.model_selection import cross_val_score"
      ],
      "metadata": {
        "id": "EPxqSnuq-sXY"
      },
      "execution_count": 46,
      "outputs": []
    },
    {
      "cell_type": "code",
      "source": [
        "model = Ridge(alpha=100)"
      ],
      "metadata": {
        "id": "q1i7GpX6__4j"
      },
      "execution_count": 47,
      "outputs": []
    },
    {
      "cell_type": "code",
      "source": [
        "scores = cross_val_score(model, x_train, y_train,scoring = 'neg_mean_squared_error', cv=5)"
      ],
      "metadata": {
        "id": "XhE3F_IL_15j"
      },
      "execution_count": 48,
      "outputs": []
    },
    {
      "cell_type": "code",
      "source": [
        "scores"
      ],
      "metadata": {
        "colab": {
          "base_uri": "https://localhost:8080/"
        },
        "id": "-9fH3LTVAa4h",
        "outputId": "5308fced-00d2-473a-e05f-cb2cb5cb40b6"
      },
      "execution_count": 49,
      "outputs": [
        {
          "output_type": "execute_result",
          "data": {
            "text/plain": [
              "array([ -9.32552967,  -4.9449624 , -11.39665242,  -7.0242106 ,\n",
              "        -8.38562723])"
            ]
          },
          "metadata": {},
          "execution_count": 49
        }
      ]
    },
    {
      "cell_type": "code",
      "source": [
        "abs(scores.mean())"
      ],
      "metadata": {
        "colab": {
          "base_uri": "https://localhost:8080/"
        },
        "id": "CCE7yCFFAtc0",
        "outputId": "d1665277-a863-4f3d-ff45-75a22a6a40ca"
      },
      "execution_count": 50,
      "outputs": [
        {
          "output_type": "execute_result",
          "data": {
            "text/plain": [
              "8.215396464543607"
            ]
          },
          "metadata": {},
          "execution_count": 50
        }
      ]
    },
    {
      "cell_type": "code",
      "source": [
        "model2 = Ridge(alpha=1)"
      ],
      "metadata": {
        "id": "UEm_3hl3A42a"
      },
      "execution_count": 51,
      "outputs": []
    },
    {
      "cell_type": "code",
      "source": [
        "scores3 = cross_val_score(model2, x_train, y_train,scoring = 'neg_mean_squared_error', cv=5)"
      ],
      "metadata": {
        "id": "Ln2FHjEbA-ph"
      },
      "execution_count": 52,
      "outputs": []
    },
    {
      "cell_type": "code",
      "source": [
        "scores3"
      ],
      "metadata": {
        "colab": {
          "base_uri": "https://localhost:8080/"
        },
        "id": "xboBV4q8BDlM",
        "outputId": "b3efdb6b-e6e0-439c-ea66-0c1411c83333"
      },
      "execution_count": 53,
      "outputs": [
        {
          "output_type": "execute_result",
          "data": {
            "text/plain": [
              "array([-3.15513238, -1.58086982, -5.40455562, -2.21654481, -4.36709384])"
            ]
          },
          "metadata": {},
          "execution_count": 53
        }
      ]
    },
    {
      "cell_type": "code",
      "source": [
        "abs(scores3.mean())"
      ],
      "metadata": {
        "colab": {
          "base_uri": "https://localhost:8080/"
        },
        "id": "81wCA3U1BKvT",
        "outputId": "30a201e6-7e3b-429b-fd8f-c0707de05a89"
      },
      "execution_count": 54,
      "outputs": [
        {
          "output_type": "execute_result",
          "data": {
            "text/plain": [
              "3.344839296530695"
            ]
          },
          "metadata": {},
          "execution_count": 54
        }
      ]
    },
    {
      "cell_type": "code",
      "source": [
        "model2.fit(x_train, y_train)"
      ],
      "metadata": {
        "colab": {
          "base_uri": "https://localhost:8080/"
        },
        "id": "IMM1DCItBPPa",
        "outputId": "49310551-a733-4a31-c9e4-eadea04767d8"
      },
      "execution_count": 55,
      "outputs": [
        {
          "output_type": "execute_result",
          "data": {
            "text/plain": [
              "Ridge(alpha=1)"
            ]
          },
          "metadata": {},
          "execution_count": 55
        }
      ]
    },
    {
      "cell_type": "code",
      "source": [
        "y_final_test_pred = model2.predict(x_test)## Prediction on the final test(final evluation)"
      ],
      "metadata": {
        "id": "bAYFO6boBhZt"
      },
      "execution_count": 56,
      "outputs": []
    },
    {
      "cell_type": "code",
      "source": [
        "MSE = mean_squared_error(y_test,y_final_test_pred )##For training testing and validation case\n",
        "MSE"
      ],
      "metadata": {
        "colab": {
          "base_uri": "https://localhost:8080/"
        },
        "id": "-YcNIBodB2Bb",
        "outputId": "33bfb320-7037-4abf-b646-c5d119779c09"
      },
      "execution_count": 57,
      "outputs": [
        {
          "output_type": "execute_result",
          "data": {
            "text/plain": [
              "2.2542600838005176"
            ]
          },
          "metadata": {},
          "execution_count": 57
        }
      ]
    },
    {
      "cell_type": "code",
      "source": [
        "##Cross validate function\n",
        "from sklearn.model_selection import cross_validate"
      ],
      "metadata": {
        "id": "z-3GmpwPCB6F"
      },
      "execution_count": 58,
      "outputs": []
    },
    {
      "cell_type": "code",
      "source": [
        "model = Ridge(alpha=100)"
      ],
      "metadata": {
        "id": "7IAbQwGXCuZy"
      },
      "execution_count": 59,
      "outputs": []
    },
    {
      "cell_type": "code",
      "source": [
        "scores = cross_validate(model, x_train, y_train, scoring= ['neg_mean_squared_error', 'neg_mean_absolute_error'], cv=5)"
      ],
      "metadata": {
        "id": "0u1eujRWCyET"
      },
      "execution_count": 60,
      "outputs": []
    },
    {
      "cell_type": "code",
      "source": [
        "scores = pd.DataFrame(scores)\n",
        "scores"
      ],
      "metadata": {
        "colab": {
          "base_uri": "https://localhost:8080/",
          "height": 270
        },
        "id": "PfIf64DvDIpx",
        "outputId": "a28f0849-16ac-464c-f741-ceea2f2f90c1"
      },
      "execution_count": 61,
      "outputs": [
        {
          "output_type": "execute_result",
          "data": {
            "text/plain": [
              "   fit_time  score_time  test_neg_mean_squared_error  \\\n",
              "0  0.007072    0.001382                    -9.325530   \n",
              "1  0.013189    0.001194                    -4.944962   \n",
              "2  0.001800    0.001027                   -11.396652   \n",
              "3  0.009161    0.003262                    -7.024211   \n",
              "4  0.003661    0.001081                    -8.385627   \n",
              "\n",
              "   test_neg_mean_absolute_error  \n",
              "0                     -2.312430  \n",
              "1                     -1.746534  \n",
              "2                     -2.562117  \n",
              "3                     -2.018732  \n",
              "4                     -2.279519  "
            ],
            "text/html": [
              "\n",
              "  <div id=\"df-70a8117a-7674-4ff1-bea4-cf463d829bd7\">\n",
              "    <div class=\"colab-df-container\">\n",
              "      <div>\n",
              "<style scoped>\n",
              "    .dataframe tbody tr th:only-of-type {\n",
              "        vertical-align: middle;\n",
              "    }\n",
              "\n",
              "    .dataframe tbody tr th {\n",
              "        vertical-align: top;\n",
              "    }\n",
              "\n",
              "    .dataframe thead th {\n",
              "        text-align: right;\n",
              "    }\n",
              "</style>\n",
              "<table border=\"1\" class=\"dataframe\">\n",
              "  <thead>\n",
              "    <tr style=\"text-align: right;\">\n",
              "      <th></th>\n",
              "      <th>fit_time</th>\n",
              "      <th>score_time</th>\n",
              "      <th>test_neg_mean_squared_error</th>\n",
              "      <th>test_neg_mean_absolute_error</th>\n",
              "    </tr>\n",
              "  </thead>\n",
              "  <tbody>\n",
              "    <tr>\n",
              "      <th>0</th>\n",
              "      <td>0.007072</td>\n",
              "      <td>0.001382</td>\n",
              "      <td>-9.325530</td>\n",
              "      <td>-2.312430</td>\n",
              "    </tr>\n",
              "    <tr>\n",
              "      <th>1</th>\n",
              "      <td>0.013189</td>\n",
              "      <td>0.001194</td>\n",
              "      <td>-4.944962</td>\n",
              "      <td>-1.746534</td>\n",
              "    </tr>\n",
              "    <tr>\n",
              "      <th>2</th>\n",
              "      <td>0.001800</td>\n",
              "      <td>0.001027</td>\n",
              "      <td>-11.396652</td>\n",
              "      <td>-2.562117</td>\n",
              "    </tr>\n",
              "    <tr>\n",
              "      <th>3</th>\n",
              "      <td>0.009161</td>\n",
              "      <td>0.003262</td>\n",
              "      <td>-7.024211</td>\n",
              "      <td>-2.018732</td>\n",
              "    </tr>\n",
              "    <tr>\n",
              "      <th>4</th>\n",
              "      <td>0.003661</td>\n",
              "      <td>0.001081</td>\n",
              "      <td>-8.385627</td>\n",
              "      <td>-2.279519</td>\n",
              "    </tr>\n",
              "  </tbody>\n",
              "</table>\n",
              "</div>\n",
              "      <button class=\"colab-df-convert\" onclick=\"convertToInteractive('df-70a8117a-7674-4ff1-bea4-cf463d829bd7')\"\n",
              "              title=\"Convert this dataframe to an interactive table.\"\n",
              "              style=\"display:none;\">\n",
              "        \n",
              "  <svg xmlns=\"http://www.w3.org/2000/svg\" height=\"24px\"viewBox=\"0 0 24 24\"\n",
              "       width=\"24px\">\n",
              "    <path d=\"M0 0h24v24H0V0z\" fill=\"none\"/>\n",
              "    <path d=\"M18.56 5.44l.94 2.06.94-2.06 2.06-.94-2.06-.94-.94-2.06-.94 2.06-2.06.94zm-11 1L8.5 8.5l.94-2.06 2.06-.94-2.06-.94L8.5 2.5l-.94 2.06-2.06.94zm10 10l.94 2.06.94-2.06 2.06-.94-2.06-.94-.94-2.06-.94 2.06-2.06.94z\"/><path d=\"M17.41 7.96l-1.37-1.37c-.4-.4-.92-.59-1.43-.59-.52 0-1.04.2-1.43.59L10.3 9.45l-7.72 7.72c-.78.78-.78 2.05 0 2.83L4 21.41c.39.39.9.59 1.41.59.51 0 1.02-.2 1.41-.59l7.78-7.78 2.81-2.81c.8-.78.8-2.07 0-2.86zM5.41 20L4 18.59l7.72-7.72 1.47 1.35L5.41 20z\"/>\n",
              "  </svg>\n",
              "      </button>\n",
              "      \n",
              "  <style>\n",
              "    .colab-df-container {\n",
              "      display:flex;\n",
              "      flex-wrap:wrap;\n",
              "      gap: 12px;\n",
              "    }\n",
              "\n",
              "    .colab-df-convert {\n",
              "      background-color: #E8F0FE;\n",
              "      border: none;\n",
              "      border-radius: 50%;\n",
              "      cursor: pointer;\n",
              "      display: none;\n",
              "      fill: #1967D2;\n",
              "      height: 32px;\n",
              "      padding: 0 0 0 0;\n",
              "      width: 32px;\n",
              "    }\n",
              "\n",
              "    .colab-df-convert:hover {\n",
              "      background-color: #E2EBFA;\n",
              "      box-shadow: 0px 1px 2px rgba(60, 64, 67, 0.3), 0px 1px 3px 1px rgba(60, 64, 67, 0.15);\n",
              "      fill: #174EA6;\n",
              "    }\n",
              "\n",
              "    [theme=dark] .colab-df-convert {\n",
              "      background-color: #3B4455;\n",
              "      fill: #D2E3FC;\n",
              "    }\n",
              "\n",
              "    [theme=dark] .colab-df-convert:hover {\n",
              "      background-color: #434B5C;\n",
              "      box-shadow: 0px 1px 3px 1px rgba(0, 0, 0, 0.15);\n",
              "      filter: drop-shadow(0px 1px 2px rgba(0, 0, 0, 0.3));\n",
              "      fill: #FFFFFF;\n",
              "    }\n",
              "  </style>\n",
              "\n",
              "      <script>\n",
              "        const buttonEl =\n",
              "          document.querySelector('#df-70a8117a-7674-4ff1-bea4-cf463d829bd7 button.colab-df-convert');\n",
              "        buttonEl.style.display =\n",
              "          google.colab.kernel.accessAllowed ? 'block' : 'none';\n",
              "\n",
              "        async function convertToInteractive(key) {\n",
              "          const element = document.querySelector('#df-70a8117a-7674-4ff1-bea4-cf463d829bd7');\n",
              "          const dataTable =\n",
              "            await google.colab.kernel.invokeFunction('convertToInteractive',\n",
              "                                                     [key], {});\n",
              "          if (!dataTable) return;\n",
              "\n",
              "          const docLinkHtml = 'Like what you see? Visit the ' +\n",
              "            '<a target=\"_blank\" href=https://colab.research.google.com/notebooks/data_table.ipynb>data table notebook</a>'\n",
              "            + ' to learn more about interactive tables.';\n",
              "          element.innerHTML = '';\n",
              "          dataTable['output_type'] = 'display_data';\n",
              "          await google.colab.output.renderOutput(dataTable, element);\n",
              "          const docLink = document.createElement('div');\n",
              "          docLink.innerHTML = docLinkHtml;\n",
              "          element.appendChild(docLink);\n",
              "        }\n",
              "      </script>\n",
              "    </div>\n",
              "  </div>\n",
              "  "
            ]
          },
          "metadata": {},
          "execution_count": 61
        }
      ]
    },
    {
      "cell_type": "code",
      "source": [
        "scores.mean()"
      ],
      "metadata": {
        "colab": {
          "base_uri": "https://localhost:8080/"
        },
        "id": "GmdA2B5kDdC6",
        "outputId": "2cd16ad1-2cde-4554-c1d9-9996d1c4fcac"
      },
      "execution_count": 62,
      "outputs": [
        {
          "output_type": "execute_result",
          "data": {
            "text/plain": [
              "fit_time                        0.006977\n",
              "score_time                      0.001589\n",
              "test_neg_mean_squared_error    -8.215396\n",
              "test_neg_mean_absolute_error   -2.183866\n",
              "dtype: float64"
            ]
          },
          "metadata": {},
          "execution_count": 62
        }
      ]
    },
    {
      "cell_type": "code",
      "source": [
        "model1 = Ridge(alpha=1)"
      ],
      "metadata": {
        "id": "8wVbHJMNDmsl"
      },
      "execution_count": 63,
      "outputs": []
    },
    {
      "cell_type": "code",
      "source": [
        "scores1 = cross_validate(model1, x_train, y_train, scoring= ['neg_mean_squared_error', 'neg_mean_absolute_error'], cv=5)"
      ],
      "metadata": {
        "id": "QTWi5wwkDzdb"
      },
      "execution_count": 64,
      "outputs": []
    },
    {
      "cell_type": "code",
      "source": [
        "scores1 = pd.DataFrame(scores)\n",
        "scores1"
      ],
      "metadata": {
        "colab": {
          "base_uri": "https://localhost:8080/",
          "height": 270
        },
        "id": "2ib0sqBVD-fK",
        "outputId": "070a59a0-a45a-4213-cfe8-cc2bdd1f5516"
      },
      "execution_count": 65,
      "outputs": [
        {
          "output_type": "execute_result",
          "data": {
            "text/plain": [
              "   fit_time  score_time  test_neg_mean_squared_error  \\\n",
              "0  0.007072    0.001382                    -9.325530   \n",
              "1  0.013189    0.001194                    -4.944962   \n",
              "2  0.001800    0.001027                   -11.396652   \n",
              "3  0.009161    0.003262                    -7.024211   \n",
              "4  0.003661    0.001081                    -8.385627   \n",
              "\n",
              "   test_neg_mean_absolute_error  \n",
              "0                     -2.312430  \n",
              "1                     -1.746534  \n",
              "2                     -2.562117  \n",
              "3                     -2.018732  \n",
              "4                     -2.279519  "
            ],
            "text/html": [
              "\n",
              "  <div id=\"df-d5f06bd7-ced4-4b73-a559-df467c637065\">\n",
              "    <div class=\"colab-df-container\">\n",
              "      <div>\n",
              "<style scoped>\n",
              "    .dataframe tbody tr th:only-of-type {\n",
              "        vertical-align: middle;\n",
              "    }\n",
              "\n",
              "    .dataframe tbody tr th {\n",
              "        vertical-align: top;\n",
              "    }\n",
              "\n",
              "    .dataframe thead th {\n",
              "        text-align: right;\n",
              "    }\n",
              "</style>\n",
              "<table border=\"1\" class=\"dataframe\">\n",
              "  <thead>\n",
              "    <tr style=\"text-align: right;\">\n",
              "      <th></th>\n",
              "      <th>fit_time</th>\n",
              "      <th>score_time</th>\n",
              "      <th>test_neg_mean_squared_error</th>\n",
              "      <th>test_neg_mean_absolute_error</th>\n",
              "    </tr>\n",
              "  </thead>\n",
              "  <tbody>\n",
              "    <tr>\n",
              "      <th>0</th>\n",
              "      <td>0.007072</td>\n",
              "      <td>0.001382</td>\n",
              "      <td>-9.325530</td>\n",
              "      <td>-2.312430</td>\n",
              "    </tr>\n",
              "    <tr>\n",
              "      <th>1</th>\n",
              "      <td>0.013189</td>\n",
              "      <td>0.001194</td>\n",
              "      <td>-4.944962</td>\n",
              "      <td>-1.746534</td>\n",
              "    </tr>\n",
              "    <tr>\n",
              "      <th>2</th>\n",
              "      <td>0.001800</td>\n",
              "      <td>0.001027</td>\n",
              "      <td>-11.396652</td>\n",
              "      <td>-2.562117</td>\n",
              "    </tr>\n",
              "    <tr>\n",
              "      <th>3</th>\n",
              "      <td>0.009161</td>\n",
              "      <td>0.003262</td>\n",
              "      <td>-7.024211</td>\n",
              "      <td>-2.018732</td>\n",
              "    </tr>\n",
              "    <tr>\n",
              "      <th>4</th>\n",
              "      <td>0.003661</td>\n",
              "      <td>0.001081</td>\n",
              "      <td>-8.385627</td>\n",
              "      <td>-2.279519</td>\n",
              "    </tr>\n",
              "  </tbody>\n",
              "</table>\n",
              "</div>\n",
              "      <button class=\"colab-df-convert\" onclick=\"convertToInteractive('df-d5f06bd7-ced4-4b73-a559-df467c637065')\"\n",
              "              title=\"Convert this dataframe to an interactive table.\"\n",
              "              style=\"display:none;\">\n",
              "        \n",
              "  <svg xmlns=\"http://www.w3.org/2000/svg\" height=\"24px\"viewBox=\"0 0 24 24\"\n",
              "       width=\"24px\">\n",
              "    <path d=\"M0 0h24v24H0V0z\" fill=\"none\"/>\n",
              "    <path d=\"M18.56 5.44l.94 2.06.94-2.06 2.06-.94-2.06-.94-.94-2.06-.94 2.06-2.06.94zm-11 1L8.5 8.5l.94-2.06 2.06-.94-2.06-.94L8.5 2.5l-.94 2.06-2.06.94zm10 10l.94 2.06.94-2.06 2.06-.94-2.06-.94-.94-2.06-.94 2.06-2.06.94z\"/><path d=\"M17.41 7.96l-1.37-1.37c-.4-.4-.92-.59-1.43-.59-.52 0-1.04.2-1.43.59L10.3 9.45l-7.72 7.72c-.78.78-.78 2.05 0 2.83L4 21.41c.39.39.9.59 1.41.59.51 0 1.02-.2 1.41-.59l7.78-7.78 2.81-2.81c.8-.78.8-2.07 0-2.86zM5.41 20L4 18.59l7.72-7.72 1.47 1.35L5.41 20z\"/>\n",
              "  </svg>\n",
              "      </button>\n",
              "      \n",
              "  <style>\n",
              "    .colab-df-container {\n",
              "      display:flex;\n",
              "      flex-wrap:wrap;\n",
              "      gap: 12px;\n",
              "    }\n",
              "\n",
              "    .colab-df-convert {\n",
              "      background-color: #E8F0FE;\n",
              "      border: none;\n",
              "      border-radius: 50%;\n",
              "      cursor: pointer;\n",
              "      display: none;\n",
              "      fill: #1967D2;\n",
              "      height: 32px;\n",
              "      padding: 0 0 0 0;\n",
              "      width: 32px;\n",
              "    }\n",
              "\n",
              "    .colab-df-convert:hover {\n",
              "      background-color: #E2EBFA;\n",
              "      box-shadow: 0px 1px 2px rgba(60, 64, 67, 0.3), 0px 1px 3px 1px rgba(60, 64, 67, 0.15);\n",
              "      fill: #174EA6;\n",
              "    }\n",
              "\n",
              "    [theme=dark] .colab-df-convert {\n",
              "      background-color: #3B4455;\n",
              "      fill: #D2E3FC;\n",
              "    }\n",
              "\n",
              "    [theme=dark] .colab-df-convert:hover {\n",
              "      background-color: #434B5C;\n",
              "      box-shadow: 0px 1px 3px 1px rgba(0, 0, 0, 0.15);\n",
              "      filter: drop-shadow(0px 1px 2px rgba(0, 0, 0, 0.3));\n",
              "      fill: #FFFFFF;\n",
              "    }\n",
              "  </style>\n",
              "\n",
              "      <script>\n",
              "        const buttonEl =\n",
              "          document.querySelector('#df-d5f06bd7-ced4-4b73-a559-df467c637065 button.colab-df-convert');\n",
              "        buttonEl.style.display =\n",
              "          google.colab.kernel.accessAllowed ? 'block' : 'none';\n",
              "\n",
              "        async function convertToInteractive(key) {\n",
              "          const element = document.querySelector('#df-d5f06bd7-ced4-4b73-a559-df467c637065');\n",
              "          const dataTable =\n",
              "            await google.colab.kernel.invokeFunction('convertToInteractive',\n",
              "                                                     [key], {});\n",
              "          if (!dataTable) return;\n",
              "\n",
              "          const docLinkHtml = 'Like what you see? Visit the ' +\n",
              "            '<a target=\"_blank\" href=https://colab.research.google.com/notebooks/data_table.ipynb>data table notebook</a>'\n",
              "            + ' to learn more about interactive tables.';\n",
              "          element.innerHTML = '';\n",
              "          dataTable['output_type'] = 'display_data';\n",
              "          await google.colab.output.renderOutput(dataTable, element);\n",
              "          const docLink = document.createElement('div');\n",
              "          docLink.innerHTML = docLinkHtml;\n",
              "          element.appendChild(docLink);\n",
              "        }\n",
              "      </script>\n",
              "    </div>\n",
              "  </div>\n",
              "  "
            ]
          },
          "metadata": {},
          "execution_count": 65
        }
      ]
    },
    {
      "cell_type": "code",
      "source": [
        "scores1.mean()"
      ],
      "metadata": {
        "colab": {
          "base_uri": "https://localhost:8080/"
        },
        "id": "YzBALDWqEIlT",
        "outputId": "d20792db-2d02-4bf3-bb44-ec673d07f2b0"
      },
      "execution_count": 66,
      "outputs": [
        {
          "output_type": "execute_result",
          "data": {
            "text/plain": [
              "fit_time                        0.006977\n",
              "score_time                      0.001589\n",
              "test_neg_mean_squared_error    -8.215396\n",
              "test_neg_mean_absolute_error   -2.183866\n",
              "dtype: float64"
            ]
          },
          "metadata": {},
          "execution_count": 66
        }
      ]
    },
    {
      "cell_type": "code",
      "source": [
        "model1.fit(x_train, y_train)"
      ],
      "metadata": {
        "colab": {
          "base_uri": "https://localhost:8080/"
        },
        "id": "Y2VQGgWRELOx",
        "outputId": "c0e20d76-1bd2-4c28-e7ad-94473fd9c4d7"
      },
      "execution_count": 67,
      "outputs": [
        {
          "output_type": "execute_result",
          "data": {
            "text/plain": [
              "Ridge(alpha=1)"
            ]
          },
          "metadata": {},
          "execution_count": 67
        }
      ]
    },
    {
      "cell_type": "code",
      "source": [
        "y_final_pred1 = model1.predict(x_test)"
      ],
      "metadata": {
        "id": "LSjOobk4EaPW"
      },
      "execution_count": 68,
      "outputs": []
    },
    {
      "cell_type": "code",
      "source": [
        "mean_squared_error(y_test, y_final_pred1)"
      ],
      "metadata": {
        "colab": {
          "base_uri": "https://localhost:8080/"
        },
        "id": "g1KqwlI5EfWT",
        "outputId": "ea23dcde-d221-4a20-b9c9-1ad20e73920d"
      },
      "execution_count": 69,
      "outputs": [
        {
          "output_type": "execute_result",
          "data": {
            "text/plain": [
              "2.2542600838005176"
            ]
          },
          "metadata": {},
          "execution_count": 69
        }
      ]
    },
    {
      "cell_type": "code",
      "source": [
        "##Elastic Net\n",
        "from sklearn.linear_model import ElasticNet"
      ],
      "metadata": {
        "id": "MSuT8Gw1Er7u"
      },
      "execution_count": 70,
      "outputs": []
    },
    {
      "cell_type": "code",
      "source": [
        "base_elastic_model = ElasticNet()"
      ],
      "metadata": {
        "id": "Uq54vDPJZR52"
      },
      "execution_count": 72,
      "outputs": []
    },
    {
      "cell_type": "code",
      "source": [
        "param_grid = {'alpha': [0.1,1,5,10,100], 'l1_ratio':[0.1,0.5,0.7,0.9,1]}"
      ],
      "metadata": {
        "id": "lpLCf8jc_JAl"
      },
      "execution_count": 73,
      "outputs": []
    },
    {
      "cell_type": "code",
      "source": [
        "from sklearn.model_selection import GridSearchCV"
      ],
      "metadata": {
        "id": "N8hA_VQ-_tWI"
      },
      "execution_count": 76,
      "outputs": []
    },
    {
      "cell_type": "code",
      "source": [
        "grid_model = GridSearchCV(estimator = base_elastic_model, param_grid= param_grid, scoring='neg_mean_squared_error', cv= 5, verbose = 2)"
      ],
      "metadata": {
        "id": "v1ZLqm1p_6Kk"
      },
      "execution_count": 79,
      "outputs": []
    },
    {
      "cell_type": "code",
      "source": [
        "grid_model.fit(x_train, y_train)"
      ],
      "metadata": {
        "colab": {
          "base_uri": "https://localhost:8080/"
        },
        "id": "VdLuzGMMAcpG",
        "outputId": "117176b9-25b5-4063-ae28-a984033b6817"
      },
      "execution_count": 80,
      "outputs": [
        {
          "output_type": "stream",
          "name": "stdout",
          "text": [
            "Fitting 5 folds for each of 25 candidates, totalling 125 fits\n",
            "[CV] END ............................alpha=0.1, l1_ratio=0.1; total time=   0.0s\n",
            "[CV] END ............................alpha=0.1, l1_ratio=0.1; total time=   0.0s\n",
            "[CV] END ............................alpha=0.1, l1_ratio=0.1; total time=   0.0s\n",
            "[CV] END ............................alpha=0.1, l1_ratio=0.1; total time=   0.0s\n",
            "[CV] END ............................alpha=0.1, l1_ratio=0.1; total time=   0.0s\n",
            "[CV] END ............................alpha=0.1, l1_ratio=0.5; total time=   0.0s\n",
            "[CV] END ............................alpha=0.1, l1_ratio=0.5; total time=   0.0s\n",
            "[CV] END ............................alpha=0.1, l1_ratio=0.5; total time=   0.0s\n",
            "[CV] END ............................alpha=0.1, l1_ratio=0.5; total time=   0.0s\n",
            "[CV] END ............................alpha=0.1, l1_ratio=0.5; total time=   0.0s\n",
            "[CV] END ............................alpha=0.1, l1_ratio=0.7; total time=   0.0s\n",
            "[CV] END ............................alpha=0.1, l1_ratio=0.7; total time=   0.0s\n",
            "[CV] END ............................alpha=0.1, l1_ratio=0.7; total time=   0.0s\n",
            "[CV] END ............................alpha=0.1, l1_ratio=0.7; total time=   0.0s\n",
            "[CV] END ............................alpha=0.1, l1_ratio=0.7; total time=   0.0s\n",
            "[CV] END ............................alpha=0.1, l1_ratio=0.9; total time=   0.0s\n",
            "[CV] END ............................alpha=0.1, l1_ratio=0.9; total time=   0.0s\n",
            "[CV] END ............................alpha=0.1, l1_ratio=0.9; total time=   0.0s\n",
            "[CV] END ............................alpha=0.1, l1_ratio=0.9; total time=   0.0s\n",
            "[CV] END ............................alpha=0.1, l1_ratio=0.9; total time=   0.0s\n",
            "[CV] END ..............................alpha=0.1, l1_ratio=1; total time=   0.0s\n",
            "[CV] END ..............................alpha=0.1, l1_ratio=1; total time=   0.0s\n",
            "[CV] END ..............................alpha=0.1, l1_ratio=1; total time=   0.0s\n",
            "[CV] END ..............................alpha=0.1, l1_ratio=1; total time=   0.0s\n",
            "[CV] END ..............................alpha=0.1, l1_ratio=1; total time=   0.0s\n",
            "[CV] END ..............................alpha=1, l1_ratio=0.1; total time=   0.0s\n",
            "[CV] END ..............................alpha=1, l1_ratio=0.1; total time=   0.0s\n",
            "[CV] END ..............................alpha=1, l1_ratio=0.1; total time=   0.0s\n",
            "[CV] END ..............................alpha=1, l1_ratio=0.1; total time=   0.0s\n",
            "[CV] END ..............................alpha=1, l1_ratio=0.1; total time=   0.0s\n",
            "[CV] END ..............................alpha=1, l1_ratio=0.5; total time=   0.0s\n",
            "[CV] END ..............................alpha=1, l1_ratio=0.5; total time=   0.0s\n",
            "[CV] END ..............................alpha=1, l1_ratio=0.5; total time=   0.0s\n",
            "[CV] END ..............................alpha=1, l1_ratio=0.5; total time=   0.0s\n",
            "[CV] END ..............................alpha=1, l1_ratio=0.5; total time=   0.0s\n",
            "[CV] END ..............................alpha=1, l1_ratio=0.7; total time=   0.0s\n",
            "[CV] END ..............................alpha=1, l1_ratio=0.7; total time=   0.0s\n",
            "[CV] END ..............................alpha=1, l1_ratio=0.7; total time=   0.0s\n",
            "[CV] END ..............................alpha=1, l1_ratio=0.7; total time=   0.0s\n",
            "[CV] END ..............................alpha=1, l1_ratio=0.7; total time=   0.0s\n",
            "[CV] END ..............................alpha=1, l1_ratio=0.9; total time=   0.0s\n",
            "[CV] END ..............................alpha=1, l1_ratio=0.9; total time=   0.0s\n",
            "[CV] END ..............................alpha=1, l1_ratio=0.9; total time=   0.0s\n",
            "[CV] END ..............................alpha=1, l1_ratio=0.9; total time=   0.0s\n",
            "[CV] END ..............................alpha=1, l1_ratio=0.9; total time=   0.0s\n",
            "[CV] END ................................alpha=1, l1_ratio=1; total time=   0.0s\n",
            "[CV] END ................................alpha=1, l1_ratio=1; total time=   0.0s\n",
            "[CV] END ................................alpha=1, l1_ratio=1; total time=   0.0s\n",
            "[CV] END ................................alpha=1, l1_ratio=1; total time=   0.0s\n",
            "[CV] END ................................alpha=1, l1_ratio=1; total time=   0.0s\n",
            "[CV] END ..............................alpha=5, l1_ratio=0.1; total time=   0.0s\n",
            "[CV] END ..............................alpha=5, l1_ratio=0.1; total time=   0.0s\n",
            "[CV] END ..............................alpha=5, l1_ratio=0.1; total time=   0.0s\n",
            "[CV] END ..............................alpha=5, l1_ratio=0.1; total time=   0.0s\n",
            "[CV] END ..............................alpha=5, l1_ratio=0.1; total time=   0.0s\n",
            "[CV] END ..............................alpha=5, l1_ratio=0.5; total time=   0.0s\n",
            "[CV] END ..............................alpha=5, l1_ratio=0.5; total time=   0.0s\n",
            "[CV] END ..............................alpha=5, l1_ratio=0.5; total time=   0.0s\n",
            "[CV] END ..............................alpha=5, l1_ratio=0.5; total time=   0.0s\n",
            "[CV] END ..............................alpha=5, l1_ratio=0.5; total time=   0.0s\n",
            "[CV] END ..............................alpha=5, l1_ratio=0.7; total time=   0.0s\n",
            "[CV] END ..............................alpha=5, l1_ratio=0.7; total time=   0.0s\n",
            "[CV] END ..............................alpha=5, l1_ratio=0.7; total time=   0.0s\n",
            "[CV] END ..............................alpha=5, l1_ratio=0.7; total time=   0.0s\n",
            "[CV] END ..............................alpha=5, l1_ratio=0.7; total time=   0.0s\n",
            "[CV] END ..............................alpha=5, l1_ratio=0.9; total time=   0.0s\n",
            "[CV] END ..............................alpha=5, l1_ratio=0.9; total time=   0.0s\n",
            "[CV] END ..............................alpha=5, l1_ratio=0.9; total time=   0.0s\n",
            "[CV] END ..............................alpha=5, l1_ratio=0.9; total time=   0.0s\n",
            "[CV] END ..............................alpha=5, l1_ratio=0.9; total time=   0.0s\n",
            "[CV] END ................................alpha=5, l1_ratio=1; total time=   0.0s\n",
            "[CV] END ................................alpha=5, l1_ratio=1; total time=   0.0s\n",
            "[CV] END ................................alpha=5, l1_ratio=1; total time=   0.0s\n",
            "[CV] END ................................alpha=5, l1_ratio=1; total time=   0.0s\n",
            "[CV] END ................................alpha=5, l1_ratio=1; total time=   0.0s\n",
            "[CV] END .............................alpha=10, l1_ratio=0.1; total time=   0.0s\n",
            "[CV] END .............................alpha=10, l1_ratio=0.1; total time=   0.0s\n",
            "[CV] END .............................alpha=10, l1_ratio=0.1; total time=   0.0s\n",
            "[CV] END .............................alpha=10, l1_ratio=0.1; total time=   0.0s\n",
            "[CV] END .............................alpha=10, l1_ratio=0.1; total time=   0.0s\n",
            "[CV] END .............................alpha=10, l1_ratio=0.5; total time=   0.0s\n",
            "[CV] END .............................alpha=10, l1_ratio=0.5; total time=   0.0s\n",
            "[CV] END .............................alpha=10, l1_ratio=0.5; total time=   0.0s\n",
            "[CV] END .............................alpha=10, l1_ratio=0.5; total time=   0.0s\n",
            "[CV] END .............................alpha=10, l1_ratio=0.5; total time=   0.0s\n",
            "[CV] END .............................alpha=10, l1_ratio=0.7; total time=   0.0s\n",
            "[CV] END .............................alpha=10, l1_ratio=0.7; total time=   0.0s\n",
            "[CV] END .............................alpha=10, l1_ratio=0.7; total time=   0.0s\n",
            "[CV] END .............................alpha=10, l1_ratio=0.7; total time=   0.0s\n",
            "[CV] END .............................alpha=10, l1_ratio=0.7; total time=   0.0s\n",
            "[CV] END .............................alpha=10, l1_ratio=0.9; total time=   0.0s\n",
            "[CV] END .............................alpha=10, l1_ratio=0.9; total time=   0.0s\n",
            "[CV] END .............................alpha=10, l1_ratio=0.9; total time=   0.0s\n",
            "[CV] END .............................alpha=10, l1_ratio=0.9; total time=   0.0s\n",
            "[CV] END .............................alpha=10, l1_ratio=0.9; total time=   0.0s\n",
            "[CV] END ...............................alpha=10, l1_ratio=1; total time=   0.0s\n",
            "[CV] END ...............................alpha=10, l1_ratio=1; total time=   0.0s\n",
            "[CV] END ...............................alpha=10, l1_ratio=1; total time=   0.0s\n",
            "[CV] END ...............................alpha=10, l1_ratio=1; total time=   0.0s\n",
            "[CV] END ...............................alpha=10, l1_ratio=1; total time=   0.0s\n",
            "[CV] END ............................alpha=100, l1_ratio=0.1; total time=   0.0s\n",
            "[CV] END ............................alpha=100, l1_ratio=0.1; total time=   0.0s\n",
            "[CV] END ............................alpha=100, l1_ratio=0.1; total time=   0.0s\n",
            "[CV] END ............................alpha=100, l1_ratio=0.1; total time=   0.0s\n",
            "[CV] END ............................alpha=100, l1_ratio=0.1; total time=   0.0s\n",
            "[CV] END ............................alpha=100, l1_ratio=0.5; total time=   0.0s\n",
            "[CV] END ............................alpha=100, l1_ratio=0.5; total time=   0.0s\n",
            "[CV] END ............................alpha=100, l1_ratio=0.5; total time=   0.0s\n",
            "[CV] END ............................alpha=100, l1_ratio=0.5; total time=   0.0s\n",
            "[CV] END ............................alpha=100, l1_ratio=0.5; total time=   0.0s\n",
            "[CV] END ............................alpha=100, l1_ratio=0.7; total time=   0.0s\n",
            "[CV] END ............................alpha=100, l1_ratio=0.7; total time=   0.0s\n",
            "[CV] END ............................alpha=100, l1_ratio=0.7; total time=   0.0s\n",
            "[CV] END ............................alpha=100, l1_ratio=0.7; total time=   0.0s\n",
            "[CV] END ............................alpha=100, l1_ratio=0.7; total time=   0.0s\n",
            "[CV] END ............................alpha=100, l1_ratio=0.9; total time=   0.0s\n",
            "[CV] END ............................alpha=100, l1_ratio=0.9; total time=   0.0s\n",
            "[CV] END ............................alpha=100, l1_ratio=0.9; total time=   0.0s\n",
            "[CV] END ............................alpha=100, l1_ratio=0.9; total time=   0.0s\n",
            "[CV] END ............................alpha=100, l1_ratio=0.9; total time=   0.0s\n",
            "[CV] END ..............................alpha=100, l1_ratio=1; total time=   0.0s\n",
            "[CV] END ..............................alpha=100, l1_ratio=1; total time=   0.0s\n",
            "[CV] END ..............................alpha=100, l1_ratio=1; total time=   0.0s\n",
            "[CV] END ..............................alpha=100, l1_ratio=1; total time=   0.0s\n",
            "[CV] END ..............................alpha=100, l1_ratio=1; total time=   0.0s\n"
          ]
        },
        {
          "output_type": "execute_result",
          "data": {
            "text/plain": [
              "GridSearchCV(cv=5, estimator=ElasticNet(),\n",
              "             param_grid={'alpha': [0.1, 1, 5, 10, 100],\n",
              "                         'l1_ratio': [0.1, 0.5, 0.7, 0.9, 1]},\n",
              "             scoring='neg_mean_squared_error', verbose=2)"
            ]
          },
          "metadata": {},
          "execution_count": 80
        }
      ]
    },
    {
      "cell_type": "code",
      "source": [
        "grid_model.best_estimator_"
      ],
      "metadata": {
        "colab": {
          "base_uri": "https://localhost:8080/"
        },
        "id": "RsD0-ijOAi4L",
        "outputId": "b0d1ed52-d77e-4dba-8ceb-88501a8e1f66"
      },
      "execution_count": 82,
      "outputs": [
        {
          "output_type": "execute_result",
          "data": {
            "text/plain": [
              "ElasticNet(alpha=0.1, l1_ratio=1)"
            ]
          },
          "metadata": {},
          "execution_count": 82
        }
      ]
    },
    {
      "cell_type": "code",
      "source": [
        "grid_model.best_params_"
      ],
      "metadata": {
        "colab": {
          "base_uri": "https://localhost:8080/"
        },
        "id": "N6ow0xAhA8ux",
        "outputId": "dee23ed8-f772-4adb-fa75-e44ff04f94ee"
      },
      "execution_count": 83,
      "outputs": [
        {
          "output_type": "execute_result",
          "data": {
            "text/plain": [
              "{'alpha': 0.1, 'l1_ratio': 1}"
            ]
          },
          "metadata": {},
          "execution_count": 83
        }
      ]
    },
    {
      "cell_type": "code",
      "source": [
        "pd.DataFrame(grid_model.cv_results_).head()"
      ],
      "metadata": {
        "colab": {
          "base_uri": "https://localhost:8080/",
          "height": 531
        },
        "id": "c2vVqeM8BH46",
        "outputId": "63dfc276-221f-449b-c228-2f425490c2f4"
      },
      "execution_count": 84,
      "outputs": [
        {
          "output_type": "execute_result",
          "data": {
            "text/plain": [
              "   mean_fit_time  std_fit_time  mean_score_time  std_score_time param_alpha  \\\n",
              "0       0.001405      0.000428         0.000698        0.000361         0.1   \n",
              "1       0.000833      0.000040         0.000340        0.000016         0.1   \n",
              "2       0.001187      0.000281         0.000380        0.000044         0.1   \n",
              "3       0.001425      0.000342         0.000398        0.000046         0.1   \n",
              "4       0.001231      0.000268         0.000413        0.000073         0.1   \n",
              "\n",
              "  param_l1_ratio                           params  split0_test_score  \\\n",
              "0            0.1  {'alpha': 0.1, 'l1_ratio': 0.1}          -3.453021   \n",
              "1            0.5  {'alpha': 0.1, 'l1_ratio': 0.5}          -3.325440   \n",
              "2            0.7  {'alpha': 0.1, 'l1_ratio': 0.7}          -3.269880   \n",
              "3            0.9  {'alpha': 0.1, 'l1_ratio': 0.9}          -3.221397   \n",
              "4              1    {'alpha': 0.1, 'l1_ratio': 1}          -3.206943   \n",
              "\n",
              "   split1_test_score  split2_test_score  split3_test_score  split4_test_score  \\\n",
              "0          -1.405190          -5.789125          -2.187302          -4.645576   \n",
              "1          -1.427522          -5.595610          -2.163089          -4.451679   \n",
              "2          -1.442432          -5.502437          -2.163950          -4.356738   \n",
              "3          -1.465339          -5.416447          -2.173493          -4.263887   \n",
              "4          -1.480065          -5.376257          -2.182076          -4.218460   \n",
              "\n",
              "   mean_test_score  std_test_score  rank_test_score  \n",
              "0        -3.496043        1.591601                5  \n",
              "1        -3.392668        1.506827                4  \n",
              "2        -3.347088        1.462765                3  \n",
              "3        -3.308112        1.417693                2  \n",
              "4        -3.292760        1.394613                1  "
            ],
            "text/html": [
              "\n",
              "  <div id=\"df-91be683f-eef3-4168-8a5c-daf9c09776e3\">\n",
              "    <div class=\"colab-df-container\">\n",
              "      <div>\n",
              "<style scoped>\n",
              "    .dataframe tbody tr th:only-of-type {\n",
              "        vertical-align: middle;\n",
              "    }\n",
              "\n",
              "    .dataframe tbody tr th {\n",
              "        vertical-align: top;\n",
              "    }\n",
              "\n",
              "    .dataframe thead th {\n",
              "        text-align: right;\n",
              "    }\n",
              "</style>\n",
              "<table border=\"1\" class=\"dataframe\">\n",
              "  <thead>\n",
              "    <tr style=\"text-align: right;\">\n",
              "      <th></th>\n",
              "      <th>mean_fit_time</th>\n",
              "      <th>std_fit_time</th>\n",
              "      <th>mean_score_time</th>\n",
              "      <th>std_score_time</th>\n",
              "      <th>param_alpha</th>\n",
              "      <th>param_l1_ratio</th>\n",
              "      <th>params</th>\n",
              "      <th>split0_test_score</th>\n",
              "      <th>split1_test_score</th>\n",
              "      <th>split2_test_score</th>\n",
              "      <th>split3_test_score</th>\n",
              "      <th>split4_test_score</th>\n",
              "      <th>mean_test_score</th>\n",
              "      <th>std_test_score</th>\n",
              "      <th>rank_test_score</th>\n",
              "    </tr>\n",
              "  </thead>\n",
              "  <tbody>\n",
              "    <tr>\n",
              "      <th>0</th>\n",
              "      <td>0.001405</td>\n",
              "      <td>0.000428</td>\n",
              "      <td>0.000698</td>\n",
              "      <td>0.000361</td>\n",
              "      <td>0.1</td>\n",
              "      <td>0.1</td>\n",
              "      <td>{'alpha': 0.1, 'l1_ratio': 0.1}</td>\n",
              "      <td>-3.453021</td>\n",
              "      <td>-1.405190</td>\n",
              "      <td>-5.789125</td>\n",
              "      <td>-2.187302</td>\n",
              "      <td>-4.645576</td>\n",
              "      <td>-3.496043</td>\n",
              "      <td>1.591601</td>\n",
              "      <td>5</td>\n",
              "    </tr>\n",
              "    <tr>\n",
              "      <th>1</th>\n",
              "      <td>0.000833</td>\n",
              "      <td>0.000040</td>\n",
              "      <td>0.000340</td>\n",
              "      <td>0.000016</td>\n",
              "      <td>0.1</td>\n",
              "      <td>0.5</td>\n",
              "      <td>{'alpha': 0.1, 'l1_ratio': 0.5}</td>\n",
              "      <td>-3.325440</td>\n",
              "      <td>-1.427522</td>\n",
              "      <td>-5.595610</td>\n",
              "      <td>-2.163089</td>\n",
              "      <td>-4.451679</td>\n",
              "      <td>-3.392668</td>\n",
              "      <td>1.506827</td>\n",
              "      <td>4</td>\n",
              "    </tr>\n",
              "    <tr>\n",
              "      <th>2</th>\n",
              "      <td>0.001187</td>\n",
              "      <td>0.000281</td>\n",
              "      <td>0.000380</td>\n",
              "      <td>0.000044</td>\n",
              "      <td>0.1</td>\n",
              "      <td>0.7</td>\n",
              "      <td>{'alpha': 0.1, 'l1_ratio': 0.7}</td>\n",
              "      <td>-3.269880</td>\n",
              "      <td>-1.442432</td>\n",
              "      <td>-5.502437</td>\n",
              "      <td>-2.163950</td>\n",
              "      <td>-4.356738</td>\n",
              "      <td>-3.347088</td>\n",
              "      <td>1.462765</td>\n",
              "      <td>3</td>\n",
              "    </tr>\n",
              "    <tr>\n",
              "      <th>3</th>\n",
              "      <td>0.001425</td>\n",
              "      <td>0.000342</td>\n",
              "      <td>0.000398</td>\n",
              "      <td>0.000046</td>\n",
              "      <td>0.1</td>\n",
              "      <td>0.9</td>\n",
              "      <td>{'alpha': 0.1, 'l1_ratio': 0.9}</td>\n",
              "      <td>-3.221397</td>\n",
              "      <td>-1.465339</td>\n",
              "      <td>-5.416447</td>\n",
              "      <td>-2.173493</td>\n",
              "      <td>-4.263887</td>\n",
              "      <td>-3.308112</td>\n",
              "      <td>1.417693</td>\n",
              "      <td>2</td>\n",
              "    </tr>\n",
              "    <tr>\n",
              "      <th>4</th>\n",
              "      <td>0.001231</td>\n",
              "      <td>0.000268</td>\n",
              "      <td>0.000413</td>\n",
              "      <td>0.000073</td>\n",
              "      <td>0.1</td>\n",
              "      <td>1</td>\n",
              "      <td>{'alpha': 0.1, 'l1_ratio': 1}</td>\n",
              "      <td>-3.206943</td>\n",
              "      <td>-1.480065</td>\n",
              "      <td>-5.376257</td>\n",
              "      <td>-2.182076</td>\n",
              "      <td>-4.218460</td>\n",
              "      <td>-3.292760</td>\n",
              "      <td>1.394613</td>\n",
              "      <td>1</td>\n",
              "    </tr>\n",
              "  </tbody>\n",
              "</table>\n",
              "</div>\n",
              "      <button class=\"colab-df-convert\" onclick=\"convertToInteractive('df-91be683f-eef3-4168-8a5c-daf9c09776e3')\"\n",
              "              title=\"Convert this dataframe to an interactive table.\"\n",
              "              style=\"display:none;\">\n",
              "        \n",
              "  <svg xmlns=\"http://www.w3.org/2000/svg\" height=\"24px\"viewBox=\"0 0 24 24\"\n",
              "       width=\"24px\">\n",
              "    <path d=\"M0 0h24v24H0V0z\" fill=\"none\"/>\n",
              "    <path d=\"M18.56 5.44l.94 2.06.94-2.06 2.06-.94-2.06-.94-.94-2.06-.94 2.06-2.06.94zm-11 1L8.5 8.5l.94-2.06 2.06-.94-2.06-.94L8.5 2.5l-.94 2.06-2.06.94zm10 10l.94 2.06.94-2.06 2.06-.94-2.06-.94-.94-2.06-.94 2.06-2.06.94z\"/><path d=\"M17.41 7.96l-1.37-1.37c-.4-.4-.92-.59-1.43-.59-.52 0-1.04.2-1.43.59L10.3 9.45l-7.72 7.72c-.78.78-.78 2.05 0 2.83L4 21.41c.39.39.9.59 1.41.59.51 0 1.02-.2 1.41-.59l7.78-7.78 2.81-2.81c.8-.78.8-2.07 0-2.86zM5.41 20L4 18.59l7.72-7.72 1.47 1.35L5.41 20z\"/>\n",
              "  </svg>\n",
              "      </button>\n",
              "      \n",
              "  <style>\n",
              "    .colab-df-container {\n",
              "      display:flex;\n",
              "      flex-wrap:wrap;\n",
              "      gap: 12px;\n",
              "    }\n",
              "\n",
              "    .colab-df-convert {\n",
              "      background-color: #E8F0FE;\n",
              "      border: none;\n",
              "      border-radius: 50%;\n",
              "      cursor: pointer;\n",
              "      display: none;\n",
              "      fill: #1967D2;\n",
              "      height: 32px;\n",
              "      padding: 0 0 0 0;\n",
              "      width: 32px;\n",
              "    }\n",
              "\n",
              "    .colab-df-convert:hover {\n",
              "      background-color: #E2EBFA;\n",
              "      box-shadow: 0px 1px 2px rgba(60, 64, 67, 0.3), 0px 1px 3px 1px rgba(60, 64, 67, 0.15);\n",
              "      fill: #174EA6;\n",
              "    }\n",
              "\n",
              "    [theme=dark] .colab-df-convert {\n",
              "      background-color: #3B4455;\n",
              "      fill: #D2E3FC;\n",
              "    }\n",
              "\n",
              "    [theme=dark] .colab-df-convert:hover {\n",
              "      background-color: #434B5C;\n",
              "      box-shadow: 0px 1px 3px 1px rgba(0, 0, 0, 0.15);\n",
              "      filter: drop-shadow(0px 1px 2px rgba(0, 0, 0, 0.3));\n",
              "      fill: #FFFFFF;\n",
              "    }\n",
              "  </style>\n",
              "\n",
              "      <script>\n",
              "        const buttonEl =\n",
              "          document.querySelector('#df-91be683f-eef3-4168-8a5c-daf9c09776e3 button.colab-df-convert');\n",
              "        buttonEl.style.display =\n",
              "          google.colab.kernel.accessAllowed ? 'block' : 'none';\n",
              "\n",
              "        async function convertToInteractive(key) {\n",
              "          const element = document.querySelector('#df-91be683f-eef3-4168-8a5c-daf9c09776e3');\n",
              "          const dataTable =\n",
              "            await google.colab.kernel.invokeFunction('convertToInteractive',\n",
              "                                                     [key], {});\n",
              "          if (!dataTable) return;\n",
              "\n",
              "          const docLinkHtml = 'Like what you see? Visit the ' +\n",
              "            '<a target=\"_blank\" href=https://colab.research.google.com/notebooks/data_table.ipynb>data table notebook</a>'\n",
              "            + ' to learn more about interactive tables.';\n",
              "          element.innerHTML = '';\n",
              "          dataTable['output_type'] = 'display_data';\n",
              "          await google.colab.output.renderOutput(dataTable, element);\n",
              "          const docLink = document.createElement('div');\n",
              "          docLink.innerHTML = docLinkHtml;\n",
              "          element.appendChild(docLink);\n",
              "        }\n",
              "      </script>\n",
              "    </div>\n",
              "  </div>\n",
              "  "
            ]
          },
          "metadata": {},
          "execution_count": 84
        }
      ]
    },
    {
      "cell_type": "code",
      "source": [
        "y_pred = grid_model.predict(x_test)"
      ],
      "metadata": {
        "id": "6e1jgMIKBQFl"
      },
      "execution_count": 86,
      "outputs": []
    },
    {
      "cell_type": "code",
      "source": [
        "mean_squared_error(y_test, y_pred)"
      ],
      "metadata": {
        "colab": {
          "base_uri": "https://localhost:8080/"
        },
        "id": "DXciaUygBf0e",
        "outputId": "5f4590df-b6a2-4633-bc6e-5712f0bac25f"
      },
      "execution_count": 87,
      "outputs": [
        {
          "output_type": "execute_result",
          "data": {
            "text/plain": [
              "2.304617137424956"
            ]
          },
          "metadata": {},
          "execution_count": 87
        }
      ]
    },
    {
      "cell_type": "code",
      "source": [
        ""
      ],
      "metadata": {
        "id": "sv_sm3lsBrw-"
      },
      "execution_count": null,
      "outputs": []
    }
  ]
}